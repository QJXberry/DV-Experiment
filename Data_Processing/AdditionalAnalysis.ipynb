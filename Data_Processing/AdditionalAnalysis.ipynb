{
 "cells": [
  {
   "cell_type": "code",
   "execution_count": null,
   "metadata": {},
   "outputs": [],
   "source": [
    "import pandas as pd\n",
    "import numpy as np\n",
    "import matplotlib.pyplot as plt\n",
    "import seaborn as sns\n",
    "\n",
    "# Read your data\n",
    "data = pd.read_csv('Data.csv')\n",
    "\n",
    "# Calculate the accuracy error using the given formula\n",
    "data['accuracy_error'] = np.log2((abs(data['Reported Percent'] - data['True Percent']) + 1/8) + 1)\n",
    "\n",
    "# Plot each trial as a dot\n",
    "plt.figure(figsize=(12, 8))\n",
    "\n",
    "# Plotting the individual data points\n",
    "sns.stripplot(data=data, y='Vis Type', x='accuracy_error', alpha=0.5, jitter=True, color='gray')\n",
    "\n",
    "# Overlaying with the point plot\n",
    "sns.pointplot(data=data, y='Vis Type', x='accuracy_error', join=False, capsize=.2, ci=95, color='blue')\n",
    "\n",
    "# Label the axes and title the plot\n",
    "plt.xlabel('Logarithmic Error')\n",
    "plt.ylabel('Chart Type')\n",
    "plt.title('Logarithmic Error by Chart Type with Bootstrapped Confidence 95% Intervals and Individual Data Points')\n",
    "\n",
    "# Show the grid\n",
    "plt.grid(True)\n",
    "\n",
    "# Display the plot\n",
    "plt.show()\n"
   ]
  }
 ],
 "metadata": {
  "language_info": {
   "name": "python"
  }
 },
 "nbformat": 4,
 "nbformat_minor": 2
}
